{
 "cells": [
  {
   "cell_type": "code",
   "execution_count": 1,
   "metadata": {},
   "outputs": [
    {
     "name": "stdout",
     "output_type": "stream",
     "text": [
      "深圳房租及杂费用：  30890.755\n",
      "总费用：  35240.755000000005\n"
     ]
    }
   ],
   "source": [
    "#账单：\n",
    "\n",
    "#宽带费用 一年零一个月\n",
    "broadband_fee = 1100;\n",
    "\n",
    "#饮用水和饮水机费用\n",
    "drinking_water_cost = 1035\n",
    "\n",
    "#洗衣机\n",
    "washing = 658.0;\n",
    "\n",
    "#房租费用和物管费用 水电费\n",
    "rent_5 = 3220.22\n",
    "rent_6 = 3344.50\n",
    "rent_7 = 3425.62\n",
    "rent_8 = 3502.17\n",
    "rent_9 = 3560\n",
    "rent_10 = 3438\n",
    "rent_11 = 3461\n",
    "rent_12 = 3368\n",
    "rent_19_1 = 3324\n",
    "rent_19_2 = 3208\n",
    "rent_19_3 = 3164\n",
    "rent_19_4 = 3230\n",
    "rent_19_5 = 3290\n",
    "rent_19_6 = 3293\n",
    "\n",
    "single_cost = (broadband_fee + drinking_water_cost + washing +\n",
    "               rent_5 + rent_6 + rent_7 + rent_8 + rent_9 + rent_10 +rent_11+rent_12\n",
    "              + rent_19_1 + rent_19_2 + rent_19_3 + rent_19_4 + rent_19_5 + rent_19_6) / 2.0;\n",
    "\n",
    "#额外费用  地铁卡 门禁卡 押金六千 椅子-100 六月水电-100\n",
    "extra = 250 + 30 + 6000 - 200\n",
    "\n",
    "single_total = single_cost + extra\n",
    "print('深圳房租及杂费用： ' , single_total)\n",
    "\n",
    "#借给胡兴华固定资产1000CNY\n",
    "cny_1000 = 1000\n",
    "single_total = single_total + cny_1000\n",
    "\n",
    "#广州南->贵阳北车费  胡兴华付款的\n",
    "transport_1 = 267.5\n",
    "single_total = single_total - transport_1\n",
    "\n",
    "#昭通->贵阳车费 罗享付的\n",
    "transport_2 = 54.5\n",
    "single_total = single_total + transport_2\n",
    "\n",
    "#贵阳北->北京车费 罗享付的\n",
    "transport_3  = 963.50\n",
    "single_total = single_total + transport_3\n",
    "\n",
    "#已经还了的 8000\n",
    "#过年回家车票，胡兴华付 74.5 + 326\n",
    "#2020-08-06 收到8000\n",
    "first_recent = 8000 + 74.5 + 326 + 8000\n",
    "\n",
    "#12月3日 微信转账 9000\n",
    "new_total = 9000 + 10000\n",
    "\n",
    "single_total = single_total - first_recent + new_total\n",
    "print('总费用： ' , single_total)\n"
   ]
  },
  {
   "cell_type": "code",
   "execution_count": null,
   "metadata": {},
   "outputs": [],
   "source": []
  }
 ],
 "metadata": {
  "kernelspec": {
   "display_name": "Python 3",
   "language": "python",
   "name": "python3"
  },
  "language_info": {
   "codemirror_mode": {
    "name": "ipython",
    "version": 3
   },
   "file_extension": ".py",
   "mimetype": "text/x-python",
   "name": "python",
   "nbconvert_exporter": "python",
   "pygments_lexer": "ipython3",
   "version": "3.7.5"
  }
 },
 "nbformat": 4,
 "nbformat_minor": 2
}
